{
 "cells": [
  {
   "cell_type": "code",
   "id": "initial_id",
   "metadata": {
    "collapsed": true,
    "ExecuteTime": {
     "end_time": "2025-07-16T01:53:40.431895Z",
     "start_time": "2025-07-16T01:53:39.257829Z"
    }
   },
   "source": "from ultralytics import YOLO",
   "outputs": [],
   "execution_count": 4
  },
  {
   "metadata": {},
   "cell_type": "code",
   "outputs": [],
   "execution_count": null,
   "source": "",
   "id": "fd3bdc8f11269ab0"
  },
  {
   "metadata": {},
   "cell_type": "code",
   "outputs": [],
   "execution_count": null,
   "source": [
    "from ultralytics import YOLO\n",
    "import os\n",
    "import cv2\n",
    "\n",
    "model = YOLO(\"/home/minhpn/Desktop/Green_Parking/Model_training/YOLOv11_Detect_Number_From_Plate/content/runs/detect/train5/weights/best.pt\")  # Update this\n",
    "\n",
    "image_folder = \"/home/minhpn/Desktop/Green_Parking/Model_training/YOLO_to_labelme_func/train/images\"\n",
    "output_folder = \"/home/minhpn/Desktop/Green_Parking/Model_training/YOLO_to_labelme_func/train/temp_txt\"\n",
    "os.makedirs(output_folder, exist_ok=True)\n",
    "\n",
    "# Loop\n",
    "for img_file in os.listdir(image_folder):\n",
    "    if img_file.lower().endswith(\".jpg\"):\n",
    "        img_path = os.path.join(image_folder, img_file)\n",
    "        print(img_path)\n",
    "        image = cv2.imread(img_path)\n",
    "        if image is None:\n",
    "            print(f\"Skipped {img_file} (could not read)\")\n",
    "            continue\n",
    "\n",
    "        h, w = image.shape[:2]\n",
    "\n",
    "        # Run YOLO prediction\n",
    "        results = model.predict(source=img_path, conf=0.25, save=False, show=False)\n",
    "\n",
    "        # Save prediction in YOLO txt format\n",
    "        label_path = os.path.join(output_folder, os.path.splitext(img_file)[0] + \".txt\")\n",
    "\n",
    "        with open(label_path, \"w\") as f:\n",
    "            for box in results[0].boxes:\n",
    "                cls_id = int(box.cls[0])\n",
    "                x1, y1, x2, y2 = box.xyxy[0]\n",
    "\n",
    "                x_center = ((x1 + x2) / 2) / w\n",
    "                y_center = ((y1 + y2) / 2) / h\n",
    "                width = (x2 - x1) / w\n",
    "                height = (y2 - y1) / h\n",
    "\n",
    "                f.write(f\"{cls_id} {x_center:.6f} {y_center:.6f} {width:.6f} {height:.6f}\\n\")\n",
    "\n",
    "        print(f\"Saved: {label_path}\")\n"
   ],
   "id": "ec080a95e8113bad"
  }
 ],
 "metadata": {
  "kernelspec": {
   "display_name": "Python 3",
   "language": "python",
   "name": "python3"
  },
  "language_info": {
   "codemirror_mode": {
    "name": "ipython",
    "version": 2
   },
   "file_extension": ".py",
   "mimetype": "text/x-python",
   "name": "python",
   "nbconvert_exporter": "python",
   "pygments_lexer": "ipython2",
   "version": "2.7.6"
  }
 },
 "nbformat": 4,
 "nbformat_minor": 5
}
